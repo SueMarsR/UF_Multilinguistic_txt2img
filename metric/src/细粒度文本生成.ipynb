{
 "cells": [
  {
   "cell_type": "code",
   "execution_count": 2,
   "id": "60bede93",
   "metadata": {},
   "outputs": [
    {
     "name": "stderr",
     "output_type": "stream",
     "text": [
      "/root/local/miniconda3/envs/diffuser-gpt/lib/python3.10/site-packages/tqdm/auto.py:21: TqdmWarning: IProgress not found. Please update jupyter and ipywidgets. See https://ipywidgets.readthedocs.io/en/stable/user_install.html\n",
      "  from .autonotebook import tqdm as notebook_tqdm\n"
     ]
    }
   ],
   "source": [
    "from transformers import pipeline\n",
    "\n",
    "import csv\n",
    "import time\n",
    "from multiprocessing.pool import ThreadPool\n",
    "import requests\n",
    "import os\n",
    "import PIL.Image as Image\n",
    "from io import BytesIO \n",
    "import numpy as np\n",
    "from tqdm import tqdm\n",
    "import shutil\n",
    "from transformers import AutoTokenizer,GenerationConfig\n",
    "from transformers import AutoModelForSeq2SeqLM\n",
    "\n",
    "\n",
    "\n"
   ]
  },
  {
   "cell_type": "code",
   "execution_count": 3,
   "id": "345c98f1",
   "metadata": {},
   "outputs": [],
   "source": [
    "base_file = \"./data/eval_images.csv\""
   ]
  },
  {
   "cell_type": "code",
   "execution_count": 4,
   "id": "22115290",
   "metadata": {},
   "outputs": [
    {
     "name": "stderr",
     "output_type": "stream",
     "text": [
      "No model was supplied, defaulted to sshleifer/distilbart-cnn-12-6 and revision a4f8f3e (https://huggingface.co/sshleifer/distilbart-cnn-12-6).\n",
      "Using a pipeline without specifying a model name and revision in production is not recommended.\n"
     ]
    }
   ],
   "source": [
    "tokenizer = AutoTokenizer.from_pretrained(\"sshleifer/distilbart-cnn-12-6\")\n",
    "model = AutoModelForSeq2SeqLM.from_pretrained(\"sshleifer/distilbart-cnn-12-6\")\n",
    "classifier = pipeline(\"summarization\",min_length=1,max_length=10,do_sample=True)\n",
    "summarizer = pipeline(\"summarization\", model=\"sshleifer/distilbart-cnn-12-6\")\n",
    "\n"
   ]
  },
  {
   "cell_type": "code",
   "execution_count": 7,
   "id": "7142f845",
   "metadata": {},
   "outputs": [
    {
     "name": "stdout",
     "output_type": "stream",
     "text": [
      "</s> Natalie Portman as a optimistic! cheerful,\n",
      "</s> Natalie Portman as a optimistic, cheerful,\n",
      "</s> Natalie Portman stars as an optimistic, cheerful\n",
      "[{'prompt': ' Natalie Portman as a optimistic!'}, {'prompt': ' Natalie Portman as a optimistic,'}, {'prompt': ' Natalie Portman as a cheerful,'}]\n"
     ]
    }
   ],
   "source": [
    "translation_generation_config = GenerationConfig(\n",
    "    max_length=10, min_length=1, do_sample=False,num_return_sequences=3,num_beams=3\n",
    ")\n",
    "text = \"young, curly haired, redhead Natalie Portman  as a optimistic!, cheerful, giddy medieval innkeeper in a dark medieval inn. dark shadows, colorful, candle light,  law contrasts, fantasy concept art by Jakub Rozalski, Jan Matejko, and J.Dickenson\"\n",
    "inputs = tokenizer(text, return_tensors=\"pt\").input_ids\n",
    "outputs = model.generate(inputs, generation_config=translation_generation_config)\n",
    "outputs = tokenizer.batch_decode(outputs, skip_special_tokens=True)\n",
    "for _ in outputs:\n",
    "    print(_)\n",
    "outputs = summarizer(text,max_length=10, min_length=1, do_sample=False,num_return_sequences=3,num_beams=3)\n",
    "output = []\n",
    "for _ in outputs:\n",
    "    output.append({\"prompt\":_[\"summary_text\"]})\n",
    "print(output)"
   ]
  },
  {
   "cell_type": "code",
   "execution_count": 8,
   "id": "b6ac56b0",
   "metadata": {},
   "outputs": [],
   "source": [
    "# classifier(\"Paris is the capital and most populous city of France, with an estimated population of 2,175,601 residents as of 2018, in an area of more than 105 square kilometres (41 square miles). The City of Paris is the centre and seat of government of the region and province of Île-de-France, or Paris Region, which has an estimated population of 12,174,880, or about 18 percent of the population of France as of 2017.\")\n",
    "## [{ \"summary_text\": \" Paris is the capital and most populous city of France...\" }]"
   ]
  },
  {
   "cell_type": "code",
   "execution_count": null,
   "id": "31313df9",
   "metadata": {},
   "outputs": [
    {
     "name": "stderr",
     "output_type": "stream",
     "text": [
      "  2%|▏         | 199/8192 [17:13<10:55:29,  4.92s/it]"
     ]
    }
   ],
   "source": [
    "output = []\n",
    "with open(base_file, 'r+') as f:\n",
    "    data = csv.DictReader(f)\n",
    "    data = [r for r in data]\n",
    "    pbar = tqdm(total=len(data))\n",
    "    for row in data:\n",
    "        prompt = row[\"prompt\"]\n",
    "        # Coarse-grained text\n",
    "        # Fine-grained text\n",
    "        row[\"fine-grained text\"] = prompt\n",
    "        # row\n",
    "        outputs = summarizer(text,max_length=10, min_length=1, do_sample=True,num_return_sequences=3,num_beams=3)\n",
    "        __ = []\n",
    "        for _ in outputs:\n",
    "            __.append({\"prompt\":_[\"summary_text\"]})\n",
    "        row[\"coarse-grained prompt\"] = __\n",
    "        # print(output)\n",
    "        # break\n",
    "        del row[\"prompt\"]\n",
    "        output.append(row)\n",
    "        pbar.update(1)\n",
    "    pbar.close()"
   ]
  },
  {
   "cell_type": "code",
   "execution_count": null,
   "id": "0307f32a",
   "metadata": {},
   "outputs": [],
   "source": [
    "with open(f\"./data/eval_images_coarse-grained.csv.csv\", 'w', newline='') as file:\n",
    "    writer = csv.DictWriter(file, fieldnames=output[0].keys())\n",
    "    writer.writeheader()\n",
    "    writer.writerows(output)"
   ]
  },
  {
   "cell_type": "code",
   "execution_count": null,
   "id": "c10d65fe",
   "metadata": {},
   "outputs": [],
   "source": []
  }
 ],
 "metadata": {
  "kernelspec": {
   "display_name": "Python 3 (ipykernel)",
   "language": "python",
   "name": "python3"
  },
  "language_info": {
   "codemirror_mode": {
    "name": "ipython",
    "version": 3
   },
   "file_extension": ".py",
   "mimetype": "text/x-python",
   "name": "python",
   "nbconvert_exporter": "python",
   "pygments_lexer": "ipython3",
   "version": "3.9.2"
  }
 },
 "nbformat": 4,
 "nbformat_minor": 5
}
