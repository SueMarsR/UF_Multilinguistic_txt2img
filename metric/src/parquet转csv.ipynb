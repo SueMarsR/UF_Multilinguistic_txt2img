{
 "cells": [
  {
   "cell_type": "code",
   "execution_count": 3,
   "id": "4543b3aa-3680-4791-ad38-dcc8b21ada33",
   "metadata": {},
   "outputs": [],
   "source": [
    "import pyarrow.parquet as pq\n",
    "import pandas as pd\n",
    "\n",
    "# 读取Parquet文件\n",
    "parquet_file = pq.read_table('./data/train.parquet')\n",
    "\n",
    "# 将Parquet文件转换为数据框\n",
    "df = parquet_file.to_pandas()\n",
    "\n",
    "# 将数据框保存为CSV文件\n",
    "df.to_csv('./data/train.csv', index=False)\n",
    "# 注意需要替换filename.parquet和filename.csv为相应的文件名和路径。\n",
    "\n",
    "# 此外，如果Parquet文件比较大，可以将读取和转换操作分批进行。例如，可以使用以下代码分批读取Parquet文件：\n",
    "\n",
    "# import pyarrow.parquet as pq\n",
    "# import pandas as pd\n",
    "\n",
    "# # 从Parquet文件中读取指定行数的数据\n",
    "# def read_parquet_chunk(filename, start, chunk_size):\n",
    "#     return pq.read_table(filename, skip_rows=start, num_rows=chunk_size)\n",
    "\n",
    "# # 将Parquet文件转换为数据框并保存为CSV文件\n",
    "# def convert_parquet_to_csv(filename):\n",
    "#     chunk_size = 100000\n",
    "#     start = 0\n",
    "#     while True:\n",
    "#         parquet_chunk = read_parquet_chunk(filename, start, chunk_size)\n",
    "#         if parquet_chunk.num_rows == 0:\n",
    "#             break\n",
    "#         df = parquet_chunk.to_pandas()\n",
    "#         df.to_csv(filename + '.csv', mode='a', header=not start, index=False)\n",
    "#         start += chunk_size"
   ]
  },
  {
   "cell_type": "code",
   "execution_count": null,
   "id": "49079ca5-3896-4ca9-a727-19520669f866",
   "metadata": {},
   "outputs": [],
   "source": []
  }
 ],
 "metadata": {
  "kernelspec": {
   "display_name": "diffuser-gpt",
   "language": "python",
   "name": "diffuser-gpt"
  },
  "language_info": {
   "codemirror_mode": {
    "name": "ipython",
    "version": 3
   },
   "file_extension": ".py",
   "mimetype": "text/x-python",
   "name": "python",
   "nbconvert_exporter": "python",
   "pygments_lexer": "ipython3",
   "version": "3.10.11"
  }
 },
 "nbformat": 4,
 "nbformat_minor": 5
}
