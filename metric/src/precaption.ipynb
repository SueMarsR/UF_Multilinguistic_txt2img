{
 "cells": [
  {
   "cell_type": "code",
   "execution_count": 2,
   "id": "ee2ce699",
   "metadata": {},
   "outputs": [],
   "source": [
    "import os\n",
    "import re"
   ]
  },
  {
   "cell_type": "code",
   "execution_count": 3,
   "id": "236e9892",
   "metadata": {},
   "outputs": [],
   "source": [
    "def pre_caption(caption, max_words=256):\n",
    "    caption = (\n",
    "        re.sub(\n",
    "            # r\"([,.'!?\\\"()*#:;~])\",\n",
    "            r\"([.'!?\\\"()*#:;~])\",\n",
    "            \"\",\n",
    "            caption.lower(),\n",
    "        )\n",
    "        .replace(\"-\", \" \")\n",
    "        .replace(\"/\", \" \")\n",
    "        .replace(\"\\n\", \" \")\n",
    "        .replace(\"\\r\", \" \")\n",
    "        .replace(\"<person>\", \"person\")\n",
    "    )\n",
    "\n",
    "    caption = re.sub(\n",
    "        r\"\\s{2,}\",\n",
    "        \" \",\n",
    "        caption,\n",
    "    )\n",
    "    caption = caption.rstrip(\"\\n\")\n",
    "    caption = caption.strip(\" \")\n",
    "\n",
    "    # truncate caption\n",
    "    caption_words = caption.split(\" \")\n",
    "    if caption_words[0].lower() == \"shein\":\n",
    "        caption_words = caption_words[1:]\n",
    "    if max_words is not None and len(caption_words) > max_words:\n",
    "        caption_words = caption_words[:max_words]\n",
    "    caption = \" \".join(caption_words)\n",
    "    # caption不能为空\n",
    "    if caption == \"\":\n",
    "        caption = \"a cloth\"\n",
    "    # if not caption.isascii():\n",
    "    #     # caption = 'a product'\n",
    "    # print(caption)\n",
    "    return caption"
   ]
  },
  {
   "cell_type": "code",
   "execution_count": 9,
   "id": "3bd1dbbc",
   "metadata": {},
   "outputs": [],
   "source": [
    "prompt = \"Greg Manchess portrait painting of\""
   ]
  },
  {
   "cell_type": "code",
   "execution_count": 10,
   "id": "afa55638",
   "metadata": {},
   "outputs": [
    {
     "name": "stdout",
     "output_type": "stream",
     "text": [
      "greg manchess portrait painting of\n"
     ]
    }
   ],
   "source": [
    "print(pre_caption(prompt))"
   ]
  },
  {
   "cell_type": "code",
   "execution_count": null,
   "id": "5895060c",
   "metadata": {},
   "outputs": [],
   "source": []
  }
 ],
 "metadata": {
  "kernelspec": {
   "display_name": "Python 3 (ipykernel)",
   "language": "python",
   "name": "python3"
  },
  "language_info": {
   "codemirror_mode": {
    "name": "ipython",
    "version": 3
   },
   "file_extension": ".py",
   "mimetype": "text/x-python",
   "name": "python",
   "nbconvert_exporter": "python",
   "pygments_lexer": "ipython3",
   "version": "3.9.2"
  }
 },
 "nbformat": 4,
 "nbformat_minor": 5
}
