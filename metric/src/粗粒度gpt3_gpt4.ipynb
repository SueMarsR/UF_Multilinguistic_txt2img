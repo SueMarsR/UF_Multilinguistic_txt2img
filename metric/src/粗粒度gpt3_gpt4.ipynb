{
 "cells": [
  {
   "cell_type": "code",
   "execution_count": 21,
   "id": "bd70ff25-f579-440e-86bc-6fc81b08c569",
   "metadata": {},
   "outputs": [],
   "source": [
    "from transformers import pipeline\n",
    "\n",
    "import csv\n",
    "import time\n",
    "from multiprocessing.pool import ThreadPool\n",
    "import requests\n",
    "import os\n",
    "import PIL.Image as Image\n",
    "from io import BytesIO\n",
    "import numpy as np\n",
    "from tqdm import tqdm\n",
    "import shutil\n",
    "from transformers import AutoTokenizer, GenerationConfig\n",
    "from transformers import AutoModelForSeq2SeqLM, AutoModelForCausalLM\n",
    "import ast\n",
    "import re\n",
    "\n",
    "# device = \"cpu\"\n",
    "# base_file = \"./data/eval_images_coarse-grained.csv\"\n",
    "# model = \"microsoft/Promptist\"\n",
    "# tokenizer = AutoTokenizer.from_pretrained(model)\n",
    "# gpt2_pipe = pipeline(\"text-generation\", model=model, device=device)\n",
    "\n"
   ]
  },
  {
   "cell_type": "code",
   "execution_count": 22,
   "id": "db5c5859-7aba-41e0-87d0-08fe483390f9",
   "metadata": {},
   "outputs": [],
   "source": [
    "\n",
    "def pre_caption(caption, max_words=256):\n",
    "    caption = (\n",
    "        re.sub(\n",
    "            # r\"([,.'!?\\\"()*#:;~])\",\n",
    "            r\"([.'!?\\\"()*#:;~])\",\n",
    "            \"\",\n",
    "            caption.lower(),\n",
    "        )\n",
    "        .replace(\"-\", \" \")\n",
    "        .replace(\"/\", \" \")\n",
    "        .replace(\"\\n\", \" \")\n",
    "        .replace(\"\\r\", \" \")\n",
    "        .replace(\"<person>\", \"person\")\n",
    "    )\n",
    "\n",
    "    caption = re.sub(\n",
    "        r\"\\s{2,}\",\n",
    "        \" \",\n",
    "        caption,\n",
    "    )\n",
    "    caption = caption.rstrip(\"\\n\")\n",
    "    caption = caption.strip(\" \")\n",
    "\n",
    "    # truncate caption\n",
    "    caption_words = caption.split(\" \")\n",
    "    if caption_words[0].lower() == \"shein\":\n",
    "        caption_words = caption_words[1:]\n",
    "    if max_words is not None and len(caption_words) > max_words:\n",
    "        caption_words = caption_words[:max_words]\n",
    "    caption = \" \".join(caption_words)\n",
    "    # caption不能为空\n",
    "    if caption == \"\":\n",
    "        caption = \"a cloth\"\n",
    "    # if not caption.isascii():\n",
    "    #     # caption = 'a product'\n",
    "    # print(caption)\n",
    "    return caption\n",
    "\n",
    "\n",
    "\n"
   ]
  },
  {
   "cell_type": "code",
   "execution_count": 35,
   "id": "40da2fdb-d784-4d58-9ff6-f04ddb2712d7",
   "metadata": {},
   "outputs": [],
   "source": [
    "gpt_file = \"./data_comparison/eval_chatgpt_gpt3_v2.csv\"\n",
    "base_file = \"./data/eval_images_coarse-grained.csv\""
   ]
  },
  {
   "cell_type": "code",
   "execution_count": 36,
   "id": "688a5169-1768-43c7-ba84-6f97bf44d0d5",
   "metadata": {},
   "outputs": [],
   "source": [
    "with open(gpt_file, \"r+\") as f:\n",
    "    gpt_data = list(f.readlines())"
   ]
  },
  {
   "cell_type": "code",
   "execution_count": 37,
   "id": "7b769f90-e343-4b86-b637-c1985d994322",
   "metadata": {},
   "outputs": [
    {
     "name": "stdout",
     "output_type": "stream",
     "text": [
      "300\n"
     ]
    },
    {
     "data": {
      "text/plain": [
       "'Natalie Portman as a cheerful ballerina, graceful, pastel colors\\n'"
      ]
     },
     "execution_count": 37,
     "metadata": {},
     "output_type": "execute_result"
    }
   ],
   "source": [
    "print(len(gpt_data))\n",
    "gpt_data[0]"
   ]
  },
  {
   "cell_type": "code",
   "execution_count": null,
   "id": "454f7bc2",
   "metadata": {},
   "outputs": [],
   "source": []
  },
  {
   "cell_type": "code",
   "execution_count": 38,
   "id": "b9dadbd3-c575-426a-a2b7-df9f1df5e142",
   "metadata": {},
   "outputs": [
    {
     "name": "stderr",
     "output_type": "stream",
     "text": [
      "100%|██████████| 300/300 [00:00<00:00, 17672.63it/s]\n"
     ]
    }
   ],
   "source": [
    "output = []\n",
    "with open(base_file, \"r+\") as f:\n",
    "    data = csv.DictReader(f)\n",
    "    data = [r for r in data]\n",
    "    data = data[:len(gpt_data)]\n",
    "    pbar = tqdm(total=len(data))\n",
    "    for idx,row in enumerate(data):\n",
    "        prompt_list = ast.literal_eval(row[\"coarse-grained prompt\"])\n",
    "        prompt = prompt_list[1][\"prompt\"]\n",
    "        row[f\"ans_{0}\"] = {\"prompt\": pre_caption(gpt_data[idx].strip())}\n",
    "        output.append(row)\n",
    "        pbar.update(1)\n",
    "    pbar.close()\n",
    "\n",
    "with open(f\"./data_comparison/eval_images_coarse-graied_gpt3-5_v2.csv\", \"w\", newline=\"\") as file:\n",
    "    writer = csv.DictWriter(file, fieldnames=output[0].keys())\n",
    "    writer.writeheader()\n",
    "    writer.writerows(output)"
   ]
  },
  {
   "cell_type": "code",
   "execution_count": null,
   "id": "98644254-2175-42d2-82b2-cb3b3d3bee23",
   "metadata": {},
   "outputs": [],
   "source": []
  }
 ],
 "metadata": {
  "kernelspec": {
   "display_name": "diffuser-gpt",
   "language": "python",
   "name": "diffuser-gpt"
  },
  "language_info": {
   "codemirror_mode": {
    "name": "ipython",
    "version": 3
   },
   "file_extension": ".py",
   "mimetype": "text/x-python",
   "name": "python",
   "nbconvert_exporter": "python",
   "pygments_lexer": "ipython3",
   "version": "3.10.11"
  }
 },
 "nbformat": 4,
 "nbformat_minor": 5
}
