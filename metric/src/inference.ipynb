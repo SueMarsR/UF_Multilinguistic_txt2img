{
 "cells": [
  {
   "cell_type": "code",
   "execution_count": null,
   "id": "f0808807-07bc-40b0-b085-1de8698e4402",
   "metadata": {},
   "outputs": [],
   "source": [
    "import torch\n",
    "from diffusers import StableDiffusionPipeline, EulerAncestralDiscreteScheduler"
   ]
  },
  {
   "cell_type": "code",
   "execution_count": null,
   "id": "d9d876e8-7057-481f-bed5-ef77fcc8711d",
   "metadata": {},
   "outputs": [],
   "source": [
    "prompt = \"a woman sitting on a beach chair wearing a colorful dress and sunglasses, high detailed skin, skin pores, 8k uhd, high quality, freckles, Fujifilm XT3\"\n"
   ]
  },
  {
   "cell_type": "code",
   "execution_count": null,
   "id": "91d8c359-c1af-4a34-bb4e-4da0511925bb",
   "metadata": {},
   "outputs": [],
   "source": [
    "pipe = StableDiffusionPipeline.from_pretrained(\"stabilityai/stable-diffusion-2-1-base\", torch_dtype=torch.float16, cache_dir=\"./cache\")\n",
    "pipe.scheduler = EulerAncestralDiscreteScheduler.from_config(pipe.scheduler.config)\n",
    "pipe = pipe.to(\"cuda\")\n",
    "\n",
    "g = torch.Generator(device='cuda')\n",
    "seed = g.seed()\n",
    "# image = pipe(prompt, generator = g).images[0]\n",
    "image = pipe(prompt,height=512,width=512,generator = g).images[0]\n",
    "image.save(f\"output/{prompt}.png\")\n",
    "# image.show()\n"
   ]
  }
 ],
 "metadata": {
  "kernelspec": {
   "display_name": "diffuser-gpt",
   "language": "python",
   "name": "diffuser-gpt"
  },
  "language_info": {
   "codemirror_mode": {
    "name": "ipython",
    "version": 3
   },
   "file_extension": ".py",
   "mimetype": "text/x-python",
   "name": "python",
   "nbconvert_exporter": "python",
   "pygments_lexer": "ipython3",
   "version": "3.10.11"
  }
 },
 "nbformat": 4,
 "nbformat_minor": 5
}
