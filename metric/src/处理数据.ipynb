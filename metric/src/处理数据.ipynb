{
 "cells": [
  {
   "cell_type": "code",
   "execution_count": 1,
   "id": "089a8ab3-dd11-48a6-9ea7-370948ff5d3d",
   "metadata": {},
   "outputs": [
    {
     "name": "stdout",
     "output_type": "stream",
     "text": [
      "/usr/bin/python3\n",
      "Python 3.9.2\n"
     ]
    }
   ],
   "source": [
    "!which python3\n",
    "!python3 --version"
   ]
  },
  {
   "cell_type": "code",
   "execution_count": 2,
   "id": "d0c62b3c-6e04-4ed2-91a4-c4581d641b62",
   "metadata": {},
   "outputs": [],
   "source": [
    "# import torch\n",
    "import os\n",
    "import csv\n",
    "import pandas as pd\n",
    "from pandas import read_parquet\n"
   ]
  },
  {
   "cell_type": "code",
   "execution_count": 3,
   "id": "987203c5-9158-4f1b-ad9c-106cac3f1dfe",
   "metadata": {},
   "outputs": [
    {
     "name": "stdout",
     "output_type": "stream",
     "text": [
      "/mnt/bn/nlhei-nas/project/diffusion_gpt/Datasets/Stable-Diffusion-Prompts\n"
     ]
    }
   ],
   "source": [
    "!pwd"
   ]
  },
  {
   "cell_type": "code",
   "execution_count": 4,
   "id": "716f4410-5598-457c-8036-f204b4dd99fd",
   "metadata": {},
   "outputs": [
    {
     "name": "stdout",
     "output_type": "stream",
     "text": [
      "Prompt    73718\n",
      "dtype: int64\n"
     ]
    },
    {
     "data": {
      "text/html": [
       "<div>\n",
       "<style scoped>\n",
       "    .dataframe tbody tr th:only-of-type {\n",
       "        vertical-align: middle;\n",
       "    }\n",
       "\n",
       "    .dataframe tbody tr th {\n",
       "        vertical-align: top;\n",
       "    }\n",
       "\n",
       "    .dataframe thead th {\n",
       "        text-align: right;\n",
       "    }\n",
       "</style>\n",
       "<table border=\"1\" class=\"dataframe\">\n",
       "  <thead>\n",
       "    <tr style=\"text-align: right;\">\n",
       "      <th></th>\n",
       "      <th>Prompt</th>\n",
       "    </tr>\n",
       "  </thead>\n",
       "  <tbody>\n",
       "    <tr>\n",
       "      <th>0</th>\n",
       "      <td>realistic car 3 d render sci - fi car and sci ...</td>\n",
       "    </tr>\n",
       "    <tr>\n",
       "      <th>1</th>\n",
       "      <td>a comic potrait of a female necromamcer with b...</td>\n",
       "    </tr>\n",
       "    <tr>\n",
       "      <th>2</th>\n",
       "      <td>steampunk market interior, colorful, 3 d scene...</td>\n",
       "    </tr>\n",
       "    <tr>\n",
       "      <th>3</th>\n",
       "      <td>“A portrait of a cyborg in a golden suit, D&amp;D ...</td>\n",
       "    </tr>\n",
       "    <tr>\n",
       "      <th>4</th>\n",
       "      <td>A full portrait of a beautiful post apocalypti...</td>\n",
       "    </tr>\n",
       "  </tbody>\n",
       "</table>\n",
       "</div>"
      ],
      "text/plain": [
       "                                              Prompt\n",
       "0  realistic car 3 d render sci - fi car and sci ...\n",
       "1  a comic potrait of a female necromamcer with b...\n",
       "2  steampunk market interior, colorful, 3 d scene...\n",
       "3  “A portrait of a cyborg in a golden suit, D&D ...\n",
       "4  A full portrait of a beautiful post apocalypti..."
      ]
     },
     "execution_count": 4,
     "metadata": {},
     "output_type": "execute_result"
    }
   ],
   "source": [
    "# print(torch.__version__)\n",
    "data = read_parquet(\"./Data/train.parquet\")\n",
    "print(data.count())\n",
    "data.head()"
   ]
  },
  {
   "cell_type": "code",
   "execution_count": null,
   "id": "6b361136-21c7-4748-8d83-7ea3a54162f8",
   "metadata": {},
   "outputs": [],
   "source": []
  }
 ],
 "metadata": {
  "kernelspec": {
   "display_name": "diffuser-gpt",
   "language": "python",
   "name": "diffuser-gpt"
  },
  "language_info": {
   "codemirror_mode": {
    "name": "ipython",
    "version": 3
   },
   "file_extension": ".py",
   "mimetype": "text/x-python",
   "name": "python",
   "nbconvert_exporter": "python",
   "pygments_lexer": "ipython3",
   "version": "3.10.11"
  }
 },
 "nbformat": 4,
 "nbformat_minor": 5
}
