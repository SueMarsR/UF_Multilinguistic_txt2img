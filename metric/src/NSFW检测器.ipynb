{
 "cells": [
  {
   "cell_type": "code",
   "execution_count": 9,
   "id": "8ce52bb6-cc2b-4430-b500-ca6c43fe0150",
   "metadata": {},
   "outputs": [],
   "source": [
    "from transformers import pipeline\n",
    "import csv\n",
    "import time\n",
    "from multiprocessing.pool import ThreadPool\n",
    "import requests\n",
    "import os\n",
    "import PIL.Image as Image\n",
    "from io import BytesIO \n",
    "import numpy as np\n",
    "from tqdm import tqdm\n",
    "import shutil\n",
    "from transformers import AutoTokenizer,GenerationConfig\n",
    "from transformers import AutoModelForSeq2SeqLM\n",
    "\n",
    "\n"
   ]
  },
  {
   "cell_type": "code",
   "execution_count": 3,
   "id": "70533696-0020-48aa-a079-db2a5c8a529f",
   "metadata": {},
   "outputs": [],
   "source": [
    "classifier = pipeline(\"sentiment-analysis\", model=\"michellejieli/inappropriate_text_classifier\")\n"
   ]
  },
  {
   "cell_type": "code",
   "execution_count": 4,
   "id": "04928ae0-1f03-448c-ae89-f4774068ea45",
   "metadata": {},
   "outputs": [],
   "source": [
    "# output = classifier(\"I see you’ve set aside this special time to humiliate yourself in public.\")"
   ]
  },
  {
   "cell_type": "code",
   "execution_count": 7,
   "id": "071820d4-f990-4568-aaa2-38815b3f68ba",
   "metadata": {},
   "outputs": [],
   "source": [
    "base_file = \"./data/train_images_coarse-grained.csv\""
   ]
  },
  {
   "cell_type": "code",
   "execution_count": null,
   "id": "342a13a8-d5be-4587-a001-95d1d2e57ec0",
   "metadata": {},
   "outputs": [
    {
     "name": "stderr",
     "output_type": "stream",
     "text": [
      "\n",
      "  0%|          | 0/73718 [00:09<?, ?it/s]\u001b[A\n",
      "\n",
      "  0%|          | 1/73718 [00:01<22:06:22,  1.08s/it]\u001b[A\n",
      "  0%|          | 2/73718 [00:01<13:53:17,  1.47it/s]\u001b[A\n",
      "  0%|          | 3/73718 [00:01<9:26:47,  2.17it/s] \u001b[A\n",
      "  0%|          | 4/73718 [00:02<8:08:41,  2.51it/s]\u001b[A\n",
      "  0%|          | 5/73718 [00:02<7:24:02,  2.77it/s]\u001b[A\n",
      "  0%|          | 6/73718 [00:02<7:40:15,  2.67it/s]\u001b[A\n",
      "  0%|          | 7/73718 [00:02<7:09:48,  2.86it/s]\u001b[A\n",
      "  0%|          | 8/73718 [00:03<6:12:21,  3.30it/s]\u001b[A\n",
      "  0%|          | 9/73718 [00:03<6:11:11,  3.31it/s]\u001b[A\n",
      "  0%|          | 10/73718 [00:04<12:28:47,  1.64it/s]\u001b[A\n",
      "  0%|          | 11/73718 [00:05<11:10:08,  1.83it/s]\u001b[A\n",
      "  0%|          | 12/73718 [00:05<9:01:59,  2.27it/s] \u001b[A\n",
      "  0%|          | 13/73718 [00:05<9:22:02,  2.19it/s]\u001b[A\n",
      "  0%|          | 14/73718 [00:06<7:47:09,  2.63it/s]\u001b[A\n",
      "  0%|          | 15/73718 [00:06<6:41:13,  3.06it/s]\u001b[A\n",
      "  0%|          | 16/73718 [00:06<5:54:37,  3.46it/s]\u001b[A\n",
      "  0%|          | 17/73718 [00:06<5:21:47,  3.82it/s]\u001b[A\n",
      "  0%|          | 18/73718 [00:06<5:34:14,  3.67it/s]\u001b[A\n",
      "  0%|          | 19/73718 [00:07<6:59:19,  2.93it/s]\u001b[A"
     ]
    }
   ],
   "source": [
    "output = []\n",
    "with open(base_file, 'r+') as f:\n",
    "    data = csv.DictReader(f)\n",
    "    data = [r for r in data]\n",
    "    pbar = tqdm(total=len(data))\n",
    "    for row in data:\n",
    "        prompt = [\"fine-grained prompt\"]\n",
    "        _ = classifier(prompt)[0]\n",
    "        row[\"NSFW_label\"] = _[\"label\"]\n",
    "        row[\"NSFW_score\"] = _[\"score\"]\n",
    "        output.append(row)\n",
    "        pbar.update(1)\n",
    "    pbar.close()"
   ]
  },
  {
   "cell_type": "code",
   "execution_count": null,
   "id": "ee11261b-5e05-4129-9d27-d672f40cf102",
   "metadata": {},
   "outputs": [],
   "source": [
    "with open(f\"./data/eval_images_coarse-grained_NSFW.csv\", 'w', newline='') as file:\n",
    "    writer = csv.DictWriter(file, fieldnames=output[0].keys())\n",
    "    writer.writeheader()\n",
    "    writer.writerows(output)"
   ]
  }
 ],
 "metadata": {
  "kernelspec": {
   "display_name": "diffuser-gpt",
   "language": "python",
   "name": "diffuser-gpt"
  },
  "language_info": {
   "codemirror_mode": {
    "name": "ipython",
    "version": 3
   },
   "file_extension": ".py",
   "mimetype": "text/x-python",
   "name": "python",
   "nbconvert_exporter": "python",
   "pygments_lexer": "ipython3",
   "version": "3.10.11"
  }
 },
 "nbformat": 4,
 "nbformat_minor": 5
}
